{
 "metadata": {
  "language_info": {
   "codemirror_mode": {
    "name": "ipython",
    "version": 3
   },
   "file_extension": ".py",
   "mimetype": "text/x-python",
   "name": "python",
   "nbconvert_exporter": "python",
   "pygments_lexer": "ipython3",
   "version": "3.8.5"
  },
  "orig_nbformat": 4,
  "kernelspec": {
   "name": "python3",
   "display_name": "Python 3.8.5 64-bit ('venv': venv)"
  },
  "interpreter": {
   "hash": "735b1bbd8e64d5b8ac9eb5cce3af7988e476745b427477cf0ca4dda5d6ade974"
  }
 },
 "nbformat": 4,
 "nbformat_minor": 2,
 "cells": [
  {
   "source": [
    "# Baseline Models\n",
    "\n",
    "This notebook assumes the data have been cleaned and split by the script `scripts/preprocess_data.py`."
   ],
   "cell_type": "markdown",
   "metadata": {}
  },
  {
   "source": [
    "Read the processed data."
   ],
   "cell_type": "markdown",
   "metadata": {}
  },
  {
   "cell_type": "code",
   "execution_count": 1,
   "metadata": {},
   "outputs": [],
   "source": [
    "import pandas as pd\n",
    "from sklearn.model_selection import train_test_split\n",
    "\n",
    "train_df = pd.read_csv(\"../data/processed/train.csv\")\n",
    "test_df = pd.read_csv(\"../data/processed/test.csv\")\n",
    "\n",
    "X_train, y_train = train_df[\"text\"], train_df[\"label\"]\n",
    "X_test, y_test = test_df[\"text\"], test_df[\"label\"]"
   ]
  },
  {
   "source": [
    "Train the model and make predictions on the test set."
   ],
   "cell_type": "markdown",
   "metadata": {}
  },
  {
   "cell_type": "code",
   "execution_count": 2,
   "metadata": {},
   "outputs": [],
   "source": [
    "from sklearn.feature_extraction.text import TfidfVectorizer\n",
    "\n",
    "vectorizer = TfidfVectorizer(min_df=10)\n",
    "X_train = vectorizer.fit_transform(X_train)\n",
    "X_test = vectorizer.transform(X_test)"
   ]
  },
  {
   "cell_type": "code",
   "execution_count": 3,
   "metadata": {},
   "outputs": [],
   "source": [
    "from sklearn.metrics import precision_score, recall_score\n",
    "\n",
    "def fit_and_evaluate(model):\n",
    "    \"\"\"Fit and evaluate each model.\"\"\"\n",
    "    model.fit(X_train, y_train)\n",
    "    y_pred = model.predict(X_test)\n",
    "    metrics = {\n",
    "        \"Precision\": precision_score(y_test, y_pred, average=\"micro\"),\n",
    "        \"Recall\": recall_score(y_test, y_pred, average=\"micro\"),\n",
    "    }\n",
    "    return metrics"
   ]
  },
  {
   "cell_type": "code",
   "execution_count": 4,
   "metadata": {},
   "outputs": [
    {
     "output_type": "stream",
     "name": "stdout",
     "text": [
      "{\n  \"multinomial-navie-bayes\": {\n    \"Precision\": 0.7768595041322314,\n    \"Recall\": 0.7768595041322314\n  },\n  \"logistic-regression\": {\n    \"Precision\": 0.8471074380165289,\n    \"Recall\": 0.8471074380165289\n  },\n  \"k-nearest-neighbors\": {\n    \"Precision\": 0.756198347107438,\n    \"Recall\": 0.756198347107438\n  },\n  \"random-forest\": {\n    \"Precision\": 0.8099173553719008,\n    \"Recall\": 0.8099173553719008\n  },\n  \"gradient-boosting-machine\": {\n    \"Precision\": 0.8057851239669421,\n    \"Recall\": 0.8057851239669421\n  },\n  \"support-vector-machine\": {\n    \"Precision\": 0.8181818181818182,\n    \"Recall\": 0.8181818181818182\n  }\n}\n"
     ]
    }
   ],
   "source": [
    "import json\n",
    "\n",
    "from sklearn.ensemble import RandomForestClassifier\n",
    "from sklearn.ensemble import GradientBoostingClassifier\n",
    "from sklearn.linear_model import LogisticRegression\n",
    "from sklearn.neighbors import KNeighborsClassifier\n",
    "from sklearn.svm import LinearSVC\n",
    "from sklearn.naive_bayes import MultinomialNB\n",
    "from sklearn.multiclass import OneVsRestClassifier\n",
    "\n",
    "model_dict = {\n",
    "    \"multinomial-navie-bayes\": MultinomialNB(),\n",
    "    \"logistic-regression\": LogisticRegression(),\n",
    "    \"k-nearest-neighbors\": OneVsRestClassifier(KNeighborsClassifier()),\n",
    "    \"random-forest\": OneVsRestClassifier(RandomForestClassifier()),\n",
    "    \"gradient-boosting-machine\": OneVsRestClassifier(GradientBoostingClassifier()),\n",
    "    \"support-vector-machine\": OneVsRestClassifier(LinearSVC()),\n",
    "}\n",
    "\n",
    "performance = {}\n",
    "for model_name, model_class in model_dict.items():\n",
    "    performance[model_name] = fit_and_evaluate(model_class)\n",
    "print(json.dumps(performance, indent=2))"
   ]
  },
  {
   "cell_type": "code",
   "execution_count": 15,
   "metadata": {},
   "outputs": [],
   "source": []
  }
 ]
}