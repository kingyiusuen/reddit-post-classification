{
 "metadata": {
  "language_info": {
   "codemirror_mode": {
    "name": "ipython",
    "version": 3
   },
   "file_extension": ".py",
   "mimetype": "text/x-python",
   "name": "python",
   "nbconvert_exporter": "python",
   "pygments_lexer": "ipython3",
   "version": 3
  },
  "orig_nbformat": 4
 },
 "nbformat": 4,
 "nbformat_minor": 2,
 "cells": [
  {
   "source": [
    "# Training in Google Colab"
   ],
   "cell_type": "markdown",
   "metadata": {}
  },
  {
   "source": [
    "Choose `Runtime` > `Change Runtime type` > `GPU` from the menu. Run the following cell to confirm that your notebook has been connected to a GPU."
   ],
   "cell_type": "markdown",
   "metadata": {}
  },
  {
   "cell_type": "code",
   "execution_count": null,
   "metadata": {},
   "outputs": [],
   "source": [
    "!nvidia-smi"
   ]
  },
  {
   "source": [
    "Clone the repository and `cd` into it."
   ],
   "cell_type": "markdown",
   "metadata": {}
  },
  {
   "cell_type": "code",
   "execution_count": null,
   "metadata": {},
   "outputs": [],
   "source": [
    "!git clone https://github.com/kingyiusuen/reddit-post-classification.git\n",
    "%cd reddit-post-classification\n",
    "%env PYTHONPATH=.:$PYTHONPATH"
   ]
  },
  {
   "source": [
    "Install dependencies."
   ],
   "cell_type": "markdown",
   "metadata": {}
  },
  {
   "cell_type": "code",
   "execution_count": null,
   "metadata": {},
   "outputs": [],
   "source": [
    "!make install"
   ]
  },
  {
   "source": [
    "Run the following cell to download the dataset and start training. Modify the value of the hyperparameters as desired. Check out the folder `configs` to see what options are available."
   ],
   "cell_type": "markdown",
   "metadata": {}
  },
  {
   "cell_type": "code",
   "execution_count": null,
   "metadata": {},
   "outputs": [],
   "source": [
    "!python scripts/train.py model=cnn logger=wandb trainer.gpus=1 trainer.max_epochs=10 trainer.auto_lr_find=True datamodule.batch_size=256 datamodule.num_workers=2 datamodule.pin_memory=True datamodule.max_length=768"
   ]
  }
 ]
}