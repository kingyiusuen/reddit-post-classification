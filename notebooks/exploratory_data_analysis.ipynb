{
 "metadata": {
  "language_info": {
   "codemirror_mode": {
    "name": "ipython",
    "version": 3
   },
   "file_extension": ".py",
   "mimetype": "text/x-python",
   "name": "python",
   "nbconvert_exporter": "python",
   "pygments_lexer": "ipython3",
   "version": "3.8.5"
  },
  "orig_nbformat": 4,
  "kernelspec": {
   "name": "python3",
   "display_name": "Python 3.8.5 64-bit ('venv': venv)"
  },
  "interpreter": {
   "hash": "735b1bbd8e64d5b8ac9eb5cce3af7988e476745b427477cf0ca4dda5d6ade974"
  }
 },
 "nbformat": 4,
 "nbformat_minor": 2,
 "cells": [
  {
   "cell_type": "code",
   "execution_count": 10,
   "metadata": {},
   "outputs": [],
   "source": [
    "import pandas as pd\n",
    "\n",
    "df = pd.read_csv(\"../data/raw/reddit_posts.csv\")"
   ]
  },
  {
   "source": [
    "The dataset consists of 1.013M posts from 1,013 subreddits. Each subreddit has exactly 1,000 examples."
   ],
   "cell_type": "markdown",
   "metadata": {}
  },
  {
   "cell_type": "code",
   "execution_count": 11,
   "metadata": {},
   "outputs": [
    {
     "output_type": "execute_result",
     "data": {
      "text/plain": [
       "                                                    title  \\\n",
       "count                                                1941   \n",
       "unique                                               1925   \n",
       "top     [R] Disrupting Model Training with Adversarial...   \n",
       "freq                                                    3   \n",
       "\n",
       "                                                 selftext        subreddit  \n",
       "count                                                1505             1941  \n",
       "unique                                               1491                2  \n",
       "top      \\n\\nAccording to the DCGAN [paper](https://ar...  MachineLearning  \n",
       "freq                                                    2              983  "
      ],
      "text/html": "<div>\n<style scoped>\n    .dataframe tbody tr th:only-of-type {\n        vertical-align: middle;\n    }\n\n    .dataframe tbody tr th {\n        vertical-align: top;\n    }\n\n    .dataframe thead th {\n        text-align: right;\n    }\n</style>\n<table border=\"1\" class=\"dataframe\">\n  <thead>\n    <tr style=\"text-align: right;\">\n      <th></th>\n      <th>title</th>\n      <th>selftext</th>\n      <th>subreddit</th>\n    </tr>\n  </thead>\n  <tbody>\n    <tr>\n      <th>count</th>\n      <td>1941</td>\n      <td>1505</td>\n      <td>1941</td>\n    </tr>\n    <tr>\n      <th>unique</th>\n      <td>1925</td>\n      <td>1491</td>\n      <td>2</td>\n    </tr>\n    <tr>\n      <th>top</th>\n      <td>[R] Disrupting Model Training with Adversarial...</td>\n      <td>\\n\\nAccording to the DCGAN [paper](https://ar...</td>\n      <td>MachineLearning</td>\n    </tr>\n    <tr>\n      <th>freq</th>\n      <td>3</td>\n      <td>2</td>\n      <td>983</td>\n    </tr>\n  </tbody>\n</table>\n</div>"
     },
     "metadata": {},
     "execution_count": 11
    }
   ],
   "source": [
    "df.describe()"
   ]
  },
  {
   "cell_type": "code",
   "execution_count": 12,
   "metadata": {},
   "outputs": [
    {
     "output_type": "execute_result",
     "data": {
      "text/plain": [
       "title          0\n",
       "selftext     436\n",
       "subreddit      0\n",
       "dtype: int64"
      ]
     },
     "metadata": {},
     "execution_count": 12
    }
   ],
   "source": [
    "df.isna().sum()"
   ]
  },
  {
   "source": [
    "Let's look at some examples of `title`."
   ],
   "cell_type": "markdown",
   "metadata": {}
  },
  {
   "cell_type": "code",
   "execution_count": 8,
   "metadata": {},
   "outputs": [
    {
     "output_type": "execute_result",
     "data": {
      "text/plain": [
       "116     What's a good algorithm for organizing/cleanin...\n",
       "1532    [D] Can I use group normalization on variable ...\n",
       "1523    [D] ELI5 explanation of Meijer G-functions Hi,...\n",
       "1564    [Discussion][Research] Fault Detection and Dia...\n",
       "959     [N] Open Catalyst Challenge: Using AI to Find ...\n",
       "1574    [R] Cornell & NTT’s Physical Neural Networks: ...\n",
       "1450    [D] Thoughts on augmenting transformers, knowl...\n",
       "429     The Reality of Complex Variable Optimization I...\n",
       "958     [D] Should we trust cloud ML platforms (aws, a...\n",
       "634     How long do you think I will need to learn how...\n",
       "869     Has anyone taken the MIT Open Learning Library...\n",
       "890     How can I find a research topic? Hello all, I’...\n",
       "75      Pre-processing audio data on GPU In my new tut...\n",
       "877     How to weight a binary classifier? Hello.  I m...\n",
       "1889    [R] The Modern Mathematics of Deep Learning [P...\n",
       "1518    [D] Discussion about no-code AI development pl...\n",
       "1856    [D] GAN training - aren't the double discrimin...\n",
       "791           How to handle imbalanced datasets in Python\n",
       "359     Confused on VDCNN shortcuts. Hi. So currently ...\n",
       "251     (PyTorch & BERT) \"RuntimeError: mat1 dim 1 mus...\n",
       "Name: text, dtype: object"
      ]
     },
     "metadata": {},
     "execution_count": 8
    }
   ],
   "source": [
    "df[\"title\"].sample(20)"
   ]
  },
  {
   "source": [
    "And some examples of `selftext`."
   ],
   "cell_type": "markdown",
   "metadata": {}
  },
  {
   "source": [
    "df[\"selftext\"].sample(20)"
   ],
   "cell_type": "code",
   "metadata": {},
   "execution_count": 13,
   "outputs": [
    {
     "output_type": "execute_result",
     "data": {
      "text/plain": [
       "1539    https://github.com/ModelOriented/DrWhy\\n\\nHas ...\n",
       "1407    I'm looking for some feedback on an architectu...\n",
       "1408    [https://trajectory-transformer.github.io/](ht...\n",
       "153                                                   NaN\n",
       "1842    Hi all, I'd like to use ML/DL for a different ...\n",
       "1       Hi all, I have just started a ML course and wh...\n",
       "1566    I would like to know of you if you think that ...\n",
       "88      In the Artificial Neural Network([ANN](https:/...\n",
       "162     I've recently started an online class in machi...\n",
       "958     Hi all,  \\nI am in the early stages of a deep ...\n",
       "1515                                                  NaN\n",
       "1319    In few shot learning(FSL) in every episodes th...\n",
       "386     Usually, the following line used to represent ...\n",
       "420     Hi. I am working with a binary classification ...\n",
       "222                                                   NaN\n",
       "1347    Here is my analysis of the paper \"Negative Dat...\n",
       "250                                                   NaN\n",
       "169      I work on an lstm which receives as input a s...\n",
       "1358    Hi. Let me elaborate on the title. I'm current...\n",
       "1541    [The animation is generated from a single stil...\n",
       "Name: selftext, dtype: object"
      ]
     },
     "metadata": {},
     "execution_count": 13
    }
   ]
  },
  {
   "cell_type": "code",
   "execution_count": null,
   "metadata": {},
   "outputs": [],
   "source": []
  }
 ]
}