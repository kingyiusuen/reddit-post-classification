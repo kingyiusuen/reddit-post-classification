{
 "metadata": {
  "language_info": {
   "codemirror_mode": {
    "name": "ipython",
    "version": 3
   },
   "file_extension": ".py",
   "mimetype": "text/x-python",
   "name": "python",
   "nbconvert_exporter": "python",
   "pygments_lexer": "ipython3",
   "version": "3.8.5"
  },
  "orig_nbformat": 4,
  "kernelspec": {
   "name": "python3",
   "display_name": "Python 3.8.5 64-bit ('venv': venv)"
  },
  "interpreter": {
   "hash": "735b1bbd8e64d5b8ac9eb5cce3af7988e476745b427477cf0ca4dda5d6ade974"
  }
 },
 "nbformat": 4,
 "nbformat_minor": 2,
 "cells": [
  {
   "source": [
    "# Exploratory Data Analysis\n",
    "\n",
    "This notebook assumes that data have been collected by the script `scripts/scrape.py`."
   ],
   "cell_type": "markdown",
   "metadata": {}
  },
  {
   "source": [
    "Read data file."
   ],
   "cell_type": "markdown",
   "metadata": {}
  },
  {
   "cell_type": "code",
   "execution_count": 1,
   "metadata": {},
   "outputs": [],
   "source": [
    "import pandas as pd\n",
    "\n",
    "df = pd.read_csv(\"../data/raw/reddit_posts.csv\")"
   ]
  },
  {
   "source": [
    "Sample 10 random rows to get some idea of how to clean the data."
   ],
   "cell_type": "markdown",
   "metadata": {}
  },
  {
   "cell_type": "code",
   "execution_count": 2,
   "metadata": {},
   "outputs": [
    {
     "output_type": "execute_result",
     "data": {
      "text/plain": [
       "          id   created_utc                                              title  \\\n",
       "1330  nhq1jx  1.621596e+09  [Q] How does one compute the log probability o...   \n",
       "351   nobqjn  1.622383e+09  Wrapping up a data-intensive PhD but most indu...   \n",
       "814   m86joz  1.616119e+09                           I'm scared for my future   \n",
       "525   nagk6a  1.620794e+09                                         Excel Hate   \n",
       "453   nh19zq  1.621520e+09                          Accumulated Local Effects   \n",
       "1749  mxbkrq  1.619234e+09  [Q] New to regressions, and I need to pick cor...   \n",
       "1382  nf7dsg  1.621335e+09                 [E] The Book of statistical proofs   \n",
       "2478  nj9rgq  1.621783e+09  [N] LinkedIn Open-Sources ‘Greykite’, A Time S...   \n",
       "2308  nq7w2f  1.622591e+09  [D] Depth In Tree Based Algorithms vs Neural N...   \n",
       "647   mv35ze  1.618961e+09  Are there any 3rd party tech/data sci recruiti...   \n",
       "\n",
       "                                               selftext   subreddit_name  \n",
       "1330  I'm wondering whether there is a method of com...       statistics  \n",
       "351   Title basically says it all. I'm wrapping up a...      datascience  \n",
       "814   I'm a college student with a Data Science majo...      datascience  \n",
       "525   What is it with data scientists and being snob...      datascience  \n",
       "453   I recently came across a newer technique calle...      datascience  \n",
       "1749  Hello, I'm new to Econometrics and this is my ...       statistics  \n",
       "1382  Hi all, I just stumbled upon this [incredible ...       statistics  \n",
       "2478  LinkedIn recently opened-sourced [Greykite](ht...  MachineLearning  \n",
       "2308  I am reading this paper over here \"On the Expr...  MachineLearning  \n",
       "647   I swear, every time I decide to work with a 3r...      datascience  "
      ],
      "text/html": "<div>\n<style scoped>\n    .dataframe tbody tr th:only-of-type {\n        vertical-align: middle;\n    }\n\n    .dataframe tbody tr th {\n        vertical-align: top;\n    }\n\n    .dataframe thead th {\n        text-align: right;\n    }\n</style>\n<table border=\"1\" class=\"dataframe\">\n  <thead>\n    <tr style=\"text-align: right;\">\n      <th></th>\n      <th>id</th>\n      <th>created_utc</th>\n      <th>title</th>\n      <th>selftext</th>\n      <th>subreddit_name</th>\n    </tr>\n  </thead>\n  <tbody>\n    <tr>\n      <th>1330</th>\n      <td>nhq1jx</td>\n      <td>1.621596e+09</td>\n      <td>[Q] How does one compute the log probability o...</td>\n      <td>I'm wondering whether there is a method of com...</td>\n      <td>statistics</td>\n    </tr>\n    <tr>\n      <th>351</th>\n      <td>nobqjn</td>\n      <td>1.622383e+09</td>\n      <td>Wrapping up a data-intensive PhD but most indu...</td>\n      <td>Title basically says it all. I'm wrapping up a...</td>\n      <td>datascience</td>\n    </tr>\n    <tr>\n      <th>814</th>\n      <td>m86joz</td>\n      <td>1.616119e+09</td>\n      <td>I'm scared for my future</td>\n      <td>I'm a college student with a Data Science majo...</td>\n      <td>datascience</td>\n    </tr>\n    <tr>\n      <th>525</th>\n      <td>nagk6a</td>\n      <td>1.620794e+09</td>\n      <td>Excel Hate</td>\n      <td>What is it with data scientists and being snob...</td>\n      <td>datascience</td>\n    </tr>\n    <tr>\n      <th>453</th>\n      <td>nh19zq</td>\n      <td>1.621520e+09</td>\n      <td>Accumulated Local Effects</td>\n      <td>I recently came across a newer technique calle...</td>\n      <td>datascience</td>\n    </tr>\n    <tr>\n      <th>1749</th>\n      <td>mxbkrq</td>\n      <td>1.619234e+09</td>\n      <td>[Q] New to regressions, and I need to pick cor...</td>\n      <td>Hello, I'm new to Econometrics and this is my ...</td>\n      <td>statistics</td>\n    </tr>\n    <tr>\n      <th>1382</th>\n      <td>nf7dsg</td>\n      <td>1.621335e+09</td>\n      <td>[E] The Book of statistical proofs</td>\n      <td>Hi all, I just stumbled upon this [incredible ...</td>\n      <td>statistics</td>\n    </tr>\n    <tr>\n      <th>2478</th>\n      <td>nj9rgq</td>\n      <td>1.621783e+09</td>\n      <td>[N] LinkedIn Open-Sources ‘Greykite’, A Time S...</td>\n      <td>LinkedIn recently opened-sourced [Greykite](ht...</td>\n      <td>MachineLearning</td>\n    </tr>\n    <tr>\n      <th>2308</th>\n      <td>nq7w2f</td>\n      <td>1.622591e+09</td>\n      <td>[D] Depth In Tree Based Algorithms vs Neural N...</td>\n      <td>I am reading this paper over here \"On the Expr...</td>\n      <td>MachineLearning</td>\n    </tr>\n    <tr>\n      <th>647</th>\n      <td>mv35ze</td>\n      <td>1.618961e+09</td>\n      <td>Are there any 3rd party tech/data sci recruiti...</td>\n      <td>I swear, every time I decide to work with a 3r...</td>\n      <td>datascience</td>\n    </tr>\n  </tbody>\n</table>\n</div>"
     },
     "metadata": {},
     "execution_count": 2
    }
   ],
   "source": [
    "df.sample(10)"
   ]
  },
  {
   "source": [
    "`r/MachineLearning` and `r/statistics` require the authors to put a tag in the title (e.g. `[D]`, `[Q]`), while `r/datascience` doesn't. So to guess whether a post belongs to `r/datascience`, the model just needs to see if its title has a tag. However, such model wouldn't be useful, because if people don't know which subreddit they should post to, they woudn't know whether they should put a tag on their title. Therefore, I removed all the tags in the title."
   ],
   "cell_type": "markdown",
   "metadata": {}
  },
  {
   "source": [
    "See if there are any missing data."
   ],
   "cell_type": "markdown",
   "metadata": {}
  },
  {
   "cell_type": "code",
   "execution_count": 3,
   "metadata": {},
   "outputs": [
    {
     "output_type": "execute_result",
     "data": {
      "text/plain": [
       "id                 0\n",
       "created_utc        0\n",
       "title              0\n",
       "selftext          47\n",
       "subreddit_name     0\n",
       "dtype: int64"
      ]
     },
     "metadata": {},
     "execution_count": 3
    }
   ],
   "source": [
    "df.isna().sum()"
   ]
  },
  {
   "source": [
    "See if there is a class imbalance problem."
   ],
   "cell_type": "markdown",
   "metadata": {}
  },
  {
   "cell_type": "code",
   "execution_count": 4,
   "metadata": {},
   "outputs": [
    {
     "output_type": "execute_result",
     "data": {
      "text/plain": [
       "statistics         983\n",
       "MachineLearning    853\n",
       "datascience        844\n",
       "Name: subreddit_name, dtype: int64"
      ]
     },
     "metadata": {},
     "execution_count": 4
    }
   ],
   "source": [
    "df[\"subreddit_name\"].value_counts()"
   ]
  },
  {
   "cell_type": "code",
   "execution_count": null,
   "metadata": {},
   "outputs": [],
   "source": []
  }
 ]
}