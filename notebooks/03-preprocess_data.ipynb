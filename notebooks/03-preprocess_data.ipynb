{
 "cells": [
  {
   "cell_type": "markdown",
   "metadata": {},
   "source": [
    "# Data Preprocessing\n",
    "\n",
    "This notebook assumes that data have been collected by running `notebooks/01-scrape_data.ipynb`.\n",
    "\n",
    "Run this command before running the following cells:\n",
    "```\n",
    "python -m spacy download en_core_web_sm\n",
    "```"
   ]
  },
  {
   "cell_type": "code",
   "execution_count": 17,
   "metadata": {},
   "outputs": [],
   "source": [
    "import re\n",
    "import string\n",
    "from pathlib import Path\n",
    "\n",
    "import pandas as pd\n",
    "from nltk.corpus import stopwords\n",
    "from sklearn.model_selection import train_test_split"
   ]
  },
  {
   "cell_type": "code",
   "execution_count": 18,
   "metadata": {},
   "outputs": [],
   "source": [
    "DATA_DIR = Path(\"../data/\")\n",
    "RAW_DATA_DIR = DATA_DIR / \"raw\"\n",
    "PROCESSED_DATA_DIR = DATA_DIR / \"processed\"\n",
    "PROCESSED_DATA_DIR.mkdir(parents=True, exist_ok=True)\n",
    "\n",
    "stop_words = set(stopwords.words('english'))"
   ]
  },
  {
   "cell_type": "markdown",
   "metadata": {},
   "source": [
    "Read data and then convert labels into integers."
   ]
  },
  {
   "cell_type": "code",
   "execution_count": 19,
   "metadata": {},
   "outputs": [],
   "source": [
    "df = pd.read_csv(RAW_DATA_DIR / \"reddit_posts.csv\")\n",
    "df[\"label\"] = df[\"subreddit_name\"].map(\n",
    "    {\n",
    "        \"MachineLearning\": 0,\n",
    "        \"LearnMachineLearning\": 1,\n",
    "    }\n",
    ")"
   ]
  },
  {
   "cell_type": "markdown",
   "metadata": {},
   "source": [
    "Do some data cleaning."
   ]
  },
  {
   "cell_type": "code",
   "execution_count": 20,
   "metadata": {},
   "outputs": [],
   "source": [
    "def clean_text(post):\n",
    "    \"\"\"Text preprocessing before tokenization.\"\"\"\n",
    "    # Remove tags\n",
    "    post[\"title\"] = re.sub(r\"\\[[A-Z]+\\]\", \"\", post[\"title\"])\n",
    "\n",
    "    # Concatenate title and selftext\n",
    "    text = post[\"title\"] + \" \" + post[\"selftext\"]\n",
    "\n",
    "    # Remove URLs\n",
    "    text = re.sub(r\"http\\S+\", \"\", text)\n",
    "\n",
    "    # Replace punctuation with space\n",
    "    translator = str.maketrans(\n",
    "        string.punctuation, \" \" * len(string.punctuation)\n",
    "    )\n",
    "    text = text.translate(translator)\n",
    "\n",
    "    # Transform multiple spaces and \\n to a single space\n",
    "    text = re.sub(r\"\\s{1,}\", \" \", text)\n",
    "\n",
    "    # Strip white spaces at the beginning and at the end\n",
    "    text = text.strip()\n",
    "\n",
    "    # Transform to lowercase\n",
    "    text = text.lower()\n",
    "\n",
    "    # Remove stop words\n",
    "    text = \" \".join(word for word in text.split() if not word in stop_words)\n",
    "    return text"
   ]
  },
  {
   "cell_type": "code",
   "execution_count": 21,
   "metadata": {},
   "outputs": [],
   "source": [
    "df.fillna(\"\", inplace=True)\n",
    "df[\"text\"] = df.apply(clean_text, axis=1)\n",
    "df = df[~(df[\"text\"] == \"\")]\n",
    "df.drop(columns=[\"created_utc\", \"title\", \"selftext\", \"subreddit_name\"], inplace=True)"
   ]
  },
  {
   "cell_type": "markdown",
   "metadata": {},
   "source": [
    "Split dataset."
   ]
  },
  {
   "cell_type": "code",
   "execution_count": 22,
   "metadata": {},
   "outputs": [],
   "source": [
    "train_df, test_df = train_test_split(df, test_size=0.1, stratify=df[\"label\"], random_state=45)"
   ]
  },
  {
   "cell_type": "markdown",
   "metadata": {},
   "source": [
    "Save processed data."
   ]
  },
  {
   "cell_type": "code",
   "execution_count": 23,
   "metadata": {},
   "outputs": [],
   "source": [
    "train_df.to_csv(PROCESSED_DATA_DIR / \"train.csv\", index=False)\n",
    "test_df.to_csv(PROCESSED_DATA_DIR / \"test.csv\", index=False)"
   ]
  }
 ],
 "metadata": {
  "interpreter": {
   "hash": "bb3a6367d16cad02d2d042fd82b960b1ba0c185ef92d229ea4e59c40b5593035"
  },
  "kernelspec": {
   "display_name": "Python 3.8.5 64-bit ('venv': venv)",
   "language": "python",
   "name": "python3"
  },
  "language_info": {
   "codemirror_mode": {
    "name": "ipython",
    "version": 3
   },
   "file_extension": ".py",
   "mimetype": "text/x-python",
   "name": "python",
   "nbconvert_exporter": "python",
   "pygments_lexer": "ipython3",
   "version": "3.8.5"
  },
  "orig_nbformat": 4
 },
 "nbformat": 4,
 "nbformat_minor": 2
}
