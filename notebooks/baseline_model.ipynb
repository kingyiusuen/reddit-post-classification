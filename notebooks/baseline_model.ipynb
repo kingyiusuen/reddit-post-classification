{
 "metadata": {
  "language_info": {
   "codemirror_mode": {
    "name": "ipython",
    "version": 3
   },
   "file_extension": ".py",
   "mimetype": "text/x-python",
   "name": "python",
   "nbconvert_exporter": "python",
   "pygments_lexer": "ipython3",
   "version": "3.8.5"
  },
  "orig_nbformat": 4,
  "kernelspec": {
   "name": "python3",
   "display_name": "Python 3.8.5 64-bit ('venv': venv)"
  },
  "interpreter": {
   "hash": "735b1bbd8e64d5b8ac9eb5cce3af7988e476745b427477cf0ca4dda5d6ade974"
  }
 },
 "nbformat": 4,
 "nbformat_minor": 2,
 "cells": [
  {
   "source": [
    "# Baseline Model\n",
    "\n",
    "In this notebook, I trained a Navie Bayes classifier with TF-IDF features as a baseline model."
   ],
   "cell_type": "markdown",
   "metadata": {}
  },
  {
   "source": [
    "Read the raw data."
   ],
   "cell_type": "markdown",
   "metadata": {}
  },
  {
   "cell_type": "code",
   "execution_count": 23,
   "metadata": {},
   "outputs": [],
   "source": [
    "import pandas as pd\n",
    "\n",
    "df = pd.read_csv(\"../data/raw/reddit_posts.csv\")"
   ]
  },
  {
   "cell_type": "code",
   "execution_count": 24,
   "metadata": {},
   "outputs": [],
   "source": [
    "df.fillna(\"\", inplace=True)"
   ]
  },
  {
   "source": [
    "Convert labels to integers."
   ],
   "cell_type": "markdown",
   "metadata": {}
  },
  {
   "cell_type": "code",
   "execution_count": 25,
   "metadata": {},
   "outputs": [],
   "source": [
    "#df[\"label\"] = df[\"subreddit_name\"].map({\"learnmachinelearning\": 0, \"MachineLearning\": 1})\n",
    "df[\"label\"] = df[\"subreddit_name\"].map({\"datascience\": 0, \"statistics\": 1, \"MachineLearning\": 2})"
   ]
  },
  {
   "cell_type": "code",
   "execution_count": 26,
   "metadata": {},
   "outputs": [],
   "source": [
    "import re\n",
    "import string\n",
    "\n",
    "\n",
    "def process_text(text: str) -> str:\n",
    "    text = re.sub(r\"http\\S+\", \"\", text)\n",
    "    # Replace punctuation with space\n",
    "    translator = str.maketrans(string.punctuation, \" \" * len(string.punctuation))\n",
    "    text = text.translate(translator)\n",
    "    # Transform multiple spaces and \\n to a single space\n",
    "    text = re.sub(r\"\\s{1,}\", \" \", text)\n",
    "    # Strip white spaces at the beginning and at the end\n",
    "    text = text.strip()\n",
    "    # Transform to lowercase\n",
    "    text = text.lower()\n",
    "    return text"
   ]
  },
  {
   "source": [
    "Clean the text."
   ],
   "cell_type": "markdown",
   "metadata": {}
  },
  {
   "cell_type": "code",
   "execution_count": 27,
   "metadata": {},
   "outputs": [],
   "source": [
    "df[\"title\"] = df[\"title\"].map(lambda x: re.sub(r\"\\[[A-Z]\\]\", \"\", x))\n",
    "df[\"text\"] = df[\"title\"] + \" \" + df[\"selftext\"]\n",
    "df[\"text\"] = df[\"text\"].map(process_text)\n",
    "df = df[~(df[\"text\"] == \"\")]"
   ]
  },
  {
   "cell_type": "code",
   "execution_count": 28,
   "metadata": {},
   "outputs": [],
   "source": [
    "from sklearn.model_selection import train_test_split\n",
    "\n",
    "train_df, test_df = train_test_split(df, test_size=0.1, stratify=df[\"label\"])\n",
    "X_train, y_train = train_df[\"text\"], train_df[\"label\"]\n",
    "X_test, y_test = test_df[\"text\"], test_df[\"label\"]"
   ]
  },
  {
   "source": [
    "Train the model and make predictions on the test set."
   ],
   "cell_type": "markdown",
   "metadata": {}
  },
  {
   "cell_type": "code",
   "execution_count": 29,
   "metadata": {},
   "outputs": [
    {
     "output_type": "stream",
     "name": "stdout",
     "text": [
      "{'Precision': 0.8059701492537313, 'Recall': 0.8059701492537313}\n"
     ]
    }
   ],
   "source": [
    "from sklearn.feature_extraction.text import TfidfVectorizer\n",
    "from sklearn.naive_bayes import MultinomialNB\n",
    "from sklearn.pipeline import make_pipeline\n",
    "\n",
    "model = make_pipeline(\n",
    "    TfidfVectorizer(min_df=5),\n",
    "    MultinomialNB()\n",
    ")\n",
    "model.fit(X_train, y_train)\n",
    "y_pred = model.predict(X_test)"
   ]
  },
  {
   "cell_type": "code",
   "execution_count": 30,
   "metadata": {},
   "outputs": [],
   "source": [
    "from sklearn.feature_extraction.text import TfidfVectorizer\n",
    "\n",
    "vectorizer = TfidfVectorizer(min_df=10)\n",
    "X_train = vectorizer.fit_transform(X_train)\n",
    "X_test = vectorizer.transform(X_test)"
   ]
  },
  {
   "cell_type": "code",
   "execution_count": 31,
   "metadata": {},
   "outputs": [],
   "source": [
    "def fit_and_evaluate(model):\n",
    "    \"\"\"Fit and evaluate each model.\"\"\"\n",
    "    model.fit(X_train, y_train)\n",
    "    y_pred = model.predict(X_test)\n",
    "    metrics = {\n",
    "        \"Precision\": precision_score(y_test, y_pred, average=\"micro\"),\n",
    "        \"Recall\": recall_score(y_test, y_pred, average=\"micro\"),\n",
    "    }\n",
    "    return metrics"
   ]
  },
  {
   "cell_type": "code",
   "execution_count": 32,
   "metadata": {},
   "outputs": [
    {
     "output_type": "stream",
     "name": "stdout",
     "text": [
      "{\n  \"multinomial-navie-bayes\": {\n    \"Precision\": 0.8134328358208955,\n    \"Recall\": 0.8134328358208955\n  },\n  \"logistic-regression\": {\n    \"Precision\": 0.8097014925373134,\n    \"Recall\": 0.8097014925373134\n  },\n  \"k-nearest-neighbors\": {\n    \"Precision\": 0.7350746268656716,\n    \"Recall\": 0.7350746268656716\n  },\n  \"random-forest\": {\n    \"Precision\": 0.8097014925373134,\n    \"Recall\": 0.8097014925373134\n  },\n  \"gradient-boosting-machine\": {\n    \"Precision\": 0.7686567164179104,\n    \"Recall\": 0.7686567164179104\n  },\n  \"support-vector-machine\": {\n    \"Precision\": 0.8097014925373134,\n    \"Recall\": 0.8097014925373134\n  }\n}\n"
     ]
    }
   ],
   "source": [
    "import json\n",
    "\n",
    "from sklearn.ensemble import RandomForestClassifier\n",
    "from sklearn.ensemble import GradientBoostingClassifier\n",
    "from sklearn.linear_model import LogisticRegression\n",
    "from sklearn.neighbors import KNeighborsClassifier\n",
    "from sklearn.svm import LinearSVC\n",
    "from sklearn.naive_bayes import MultinomialNB\n",
    "from sklearn.multiclass import OneVsRestClassifier\n",
    "from sklearn.metrics import precision_recall_fscore_support\n",
    "\n",
    "model_dict = {\n",
    "    \"multinomial-navie-bayes\": MultinomialNB(),\n",
    "    \"logistic-regression\": OneVsRestClassifier(LogisticRegression()),\n",
    "    \"k-nearest-neighbors\": OneVsRestClassifier(KNeighborsClassifier()),\n",
    "    \"random-forest\": OneVsRestClassifier(RandomForestClassifier()),\n",
    "    \"gradient-boosting-machine\": OneVsRestClassifier(GradientBoostingClassifier()),\n",
    "    \"support-vector-machine\": OneVsRestClassifier(LinearSVC()),\n",
    "}\n",
    "\n",
    "performance = {}\n",
    "for model_name, model_class in model_dict.items():\n",
    "    performance[model_name] = fit_and_evaluate(model_class)\n",
    "print(json.dumps(performance, indent=2))"
   ]
  },
  {
   "cell_type": "code",
   "execution_count": 15,
   "metadata": {},
   "outputs": [],
   "source": []
  }
 ]
}