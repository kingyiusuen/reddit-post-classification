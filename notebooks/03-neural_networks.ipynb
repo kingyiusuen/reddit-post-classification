{
 "metadata": {
  "language_info": {
   "codemirror_mode": {
    "name": "ipython",
    "version": 3
   },
   "file_extension": ".py",
   "mimetype": "text/x-python",
   "name": "python",
   "nbconvert_exporter": "python",
   "pygments_lexer": "ipython3",
   "version": 3
  },
  "orig_nbformat": 4
 },
 "nbformat": 4,
 "nbformat_minor": 2,
 "cells": [
  {
   "source": [
    "# Neural Network Training in Google Colab\n",
    "\n",
    "You can use this notebook to train the neural networks in Google Colab."
   ],
   "cell_type": "markdown",
   "metadata": {}
  },
  {
   "source": [
    "Choose `Runtime` > `Change Runtime type` > `GPU` from the menu. Run the following cell to confirm that your notebook has been connected to a GPU."
   ],
   "cell_type": "markdown",
   "metadata": {}
  },
  {
   "cell_type": "code",
   "execution_count": null,
   "metadata": {},
   "outputs": [],
   "source": [
    "!nvidia-smi"
   ]
  },
  {
   "source": [
    "Clone the repository and `cd` into it."
   ],
   "cell_type": "markdown",
   "metadata": {}
  },
  {
   "cell_type": "code",
   "execution_count": null,
   "metadata": {},
   "outputs": [],
   "source": [
    "!git clone https://github.com/kingyiusuen/reddit-post-classification.git\n",
    "%cd reddit-post-classification\n",
    "%env PYTHONPATH=.:$PYTHONPATH"
   ]
  },
  {
   "source": [
    "Install dependencies."
   ],
   "cell_type": "markdown",
   "metadata": {}
  },
  {
   "cell_type": "code",
   "execution_count": null,
   "metadata": {},
   "outputs": [],
   "source": [
    "!make install"
   ]
  },
  {
   "source": [
    "Run the following cells to start training and run hyperparameter optimization."
   ],
   "cell_type": "markdown",
   "metadata": {}
  },
  {
   "cell_type": "code",
   "execution_count": null,
   "metadata": {},
   "outputs": [],
   "source": [
    "!python scripts/train.py -m model=cnn logger=wandb trainer.gpus=1 hparams_search=cnn_optuna"
   ]
  },
  {
   "cell_type": "code",
   "execution_count": null,
   "metadata": {},
   "outputs": [],
   "source": [
    "!python scripts/train.py -m model=rnn logger=wandb trainer.gpus=1 hparams_search=rnn_optuna"
   ]
  }
 ]
}